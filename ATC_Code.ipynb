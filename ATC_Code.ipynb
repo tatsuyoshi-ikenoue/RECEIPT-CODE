{
  "nbformat": 4,
  "nbformat_minor": 0,
  "metadata": {
    "colab": {
      "name": "Untitled0.ipynb",
      "provenance": [],
      "authorship_tag": "ABX9TyPQLKPZGJYVwV/s8oVl61iN",
      "include_colab_link": true
    },
    "kernelspec": {
      "name": "python3",
      "display_name": "Python 3"
    },
    "language_info": {
      "name": "python"
    }
  },
  "cells": [
    {
      "cell_type": "markdown",
      "metadata": {
        "id": "view-in-github",
        "colab_type": "text"
      },
      "source": [
        "<a href=\"https://colab.research.google.com/github/tatsuyoshi-ikenoue/RECEIPT-CODE/blob/master/ATC_Code.ipynb\" target=\"_parent\"><img src=\"https://colab.research.google.com/assets/colab-badge.svg\" alt=\"Open In Colab\"/></a>"
      ]
    },
    {
      "cell_type": "code",
      "metadata": {
        "colab": {
          "base_uri": "https://localhost:8080/"
        },
        "id": "_o2RVpI00rz2",
        "outputId": "3646563b-e6aa-4396-e8f5-3ebd66da2d71"
      },
      "source": [
        "from google.colab import drive\n",
        "drive.mount('/content/drive')"
      ],
      "execution_count": 1,
      "outputs": [
        {
          "output_type": "stream",
          "text": [
            "Drive already mounted at /content/drive; to attempt to forcibly remount, call drive.mount(\"/content/drive\", force_remount=True).\n"
          ],
          "name": "stdout"
        }
      ]
    },
    {
      "cell_type": "code",
      "metadata": {
        "id": "ibVKdoeO1mbM"
      },
      "source": [
        "import pandas as pd\n",
        "import os\n",
        "import re"
      ],
      "execution_count": 2,
      "outputs": []
    },
    {
      "cell_type": "code",
      "metadata": {
        "id": "QnilQoWW3_2o"
      },
      "source": [
        "DIR = '/content/drive/My Drive/ATCcode from KEGG'\n",
        "files = os.listdir(DIR)"
      ],
      "execution_count": 3,
      "outputs": []
    },
    {
      "cell_type": "code",
      "metadata": {
        "id": "NVB3argU27_s"
      },
      "source": [
        "MEDIS = pd.read_csv(os.path.join(DIR, [f for f in files if \"MEDIS\" in f][0]))"
      ],
      "execution_count": 4,
      "outputs": []
    },
    {
      "cell_type": "code",
      "metadata": {
        "colab": {
          "base_uri": "https://localhost:8080/",
          "height": 203
        },
        "id": "UcLSfuvF3Vh5",
        "outputId": "74ff5a26-4c63-4f18-e434-a9b72cb5769b"
      },
      "source": [
        "MEDIS.head()"
      ],
      "execution_count": 5,
      "outputs": [
        {
          "output_type": "execute_result",
          "data": {
            "text/html": [
              "<div>\n",
              "<style scoped>\n",
              "    .dataframe tbody tr th:only-of-type {\n",
              "        vertical-align: middle;\n",
              "    }\n",
              "\n",
              "    .dataframe tbody tr th {\n",
              "        vertical-align: top;\n",
              "    }\n",
              "\n",
              "    .dataframe thead th {\n",
              "        text-align: right;\n",
              "    }\n",
              "</style>\n",
              "<table border=\"1\" class=\"dataframe\">\n",
              "  <thead>\n",
              "    <tr style=\"text-align: right;\">\n",
              "      <th></th>\n",
              "      <th>レセプト電算処理システムコード</th>\n",
              "      <th>レセプト電算処理システム医薬品名</th>\n",
              "      <th>薬価基準収載医薬品コード</th>\n",
              "    </tr>\n",
              "  </thead>\n",
              "  <tbody>\n",
              "    <tr>\n",
              "      <th>0</th>\n",
              "      <td>661110021.0</td>\n",
              "      <td>フローセン</td>\n",
              "      <td>1112700X1011</td>\n",
              "    </tr>\n",
              "    <tr>\n",
              "      <th>1</th>\n",
              "      <td>667130002.0</td>\n",
              "      <td>エーテル</td>\n",
              "      <td>7134700X1016</td>\n",
              "    </tr>\n",
              "    <tr>\n",
              "      <th>2</th>\n",
              "      <td>641110021.0</td>\n",
              "      <td>ラボナール　３００ｍｇ</td>\n",
              "      <td>1115400X1019</td>\n",
              "    </tr>\n",
              "    <tr>\n",
              "      <th>3</th>\n",
              "      <td>641110022.0</td>\n",
              "      <td>ラボナール　５００ｍｇ</td>\n",
              "      <td>1115400X2015</td>\n",
              "    </tr>\n",
              "    <tr>\n",
              "      <th>4</th>\n",
              "      <td>641110007.0</td>\n",
              "      <td>ネンブタール注射液　５％</td>\n",
              "      <td>1115401A1029</td>\n",
              "    </tr>\n",
              "  </tbody>\n",
              "</table>\n",
              "</div>"
            ],
            "text/plain": [
              "   レセプト電算処理システムコード レセプト電算処理システム医薬品名  薬価基準収載医薬品コード\n",
              "0      661110021.0            フローセン  1112700X1011\n",
              "1      667130002.0             エーテル  7134700X1016\n",
              "2      641110021.0      ラボナール　３００ｍｇ  1115400X1019\n",
              "3      641110022.0      ラボナール　５００ｍｇ  1115400X2015\n",
              "4      641110007.0     ネンブタール注射液　５％  1115401A1029"
            ]
          },
          "metadata": {
            "tags": []
          },
          "execution_count": 5
        }
      ]
    },
    {
      "cell_type": "code",
      "metadata": {
        "id": "3DthjEc93Yh4"
      },
      "source": [
        "KEGG = pd.read_excel(os.path.join(DIR, [f for f in files if \"ATC\" in f][0]))"
      ],
      "execution_count": 6,
      "outputs": []
    },
    {
      "cell_type": "code",
      "metadata": {
        "id": "21D5-wg75E_0"
      },
      "source": [
        "KEGG[\"ATCコード\"] = KEGG[\"ATCコード\"].apply(lambda x: re.sub(r\"\\t\", \"\", str(x)))"
      ],
      "execution_count": 7,
      "outputs": []
    },
    {
      "cell_type": "code",
      "metadata": {
        "colab": {
          "base_uri": "https://localhost:8080/",
          "height": 203
        },
        "id": "NH89KFZN3wfA",
        "outputId": "d7d53611-c4c4-4187-aec6-4df87761bf5c"
      },
      "source": [
        "KEGG.head()"
      ],
      "execution_count": 8,
      "outputs": [
        {
          "output_type": "execute_result",
          "data": {
            "text/html": [
              "<div>\n",
              "<style scoped>\n",
              "    .dataframe tbody tr th:only-of-type {\n",
              "        vertical-align: middle;\n",
              "    }\n",
              "\n",
              "    .dataframe tbody tr th {\n",
              "        vertical-align: top;\n",
              "    }\n",
              "\n",
              "    .dataframe thead th {\n",
              "        text-align: right;\n",
              "    }\n",
              "</style>\n",
              "<table border=\"1\" class=\"dataframe\">\n",
              "  <thead>\n",
              "    <tr style=\"text-align: right;\">\n",
              "      <th></th>\n",
              "      <th>レセプト電算処理システム医薬品名</th>\n",
              "      <th>薬価基準収載医薬品コード</th>\n",
              "      <th>ATCコード</th>\n",
              "      <th>効能・効果</th>\n",
              "    </tr>\n",
              "  </thead>\n",
              "  <tbody>\n",
              "    <tr>\n",
              "      <th>0</th>\n",
              "      <td>フローセン</td>\n",
              "      <td>1112700X1011</td>\n",
              "      <td>N01AB01</td>\n",
              "      <td>NaN</td>\n",
              "    </tr>\n",
              "    <tr>\n",
              "      <th>1</th>\n",
              "      <td>フローセン</td>\n",
              "      <td>1112700X1011</td>\n",
              "      <td>N01AB01</td>\n",
              "      <td>NaN</td>\n",
              "    </tr>\n",
              "    <tr>\n",
              "      <th>2</th>\n",
              "      <td>ネンブタール注射液　５％</td>\n",
              "      <td>1115401A1029</td>\n",
              "      <td>N05CA01</td>\n",
              "      <td>NaN</td>\n",
              "    </tr>\n",
              "    <tr>\n",
              "      <th>3</th>\n",
              "      <td>チトゾール　３００ｍｇ（溶解液付）</td>\n",
              "      <td>1115403D1016</td>\n",
              "      <td>N01AFXX</td>\n",
              "      <td>全身麻酔，全身麻酔の導入，局所麻酔剤・吸入麻酔剤との併用，精神神経科における電撃療法の際の麻...</td>\n",
              "    </tr>\n",
              "    <tr>\n",
              "      <th>4</th>\n",
              "      <td>チトゾール０．３ｇ　３００ｍｇ（溶解液付）</td>\n",
              "      <td>1115403D1016</td>\n",
              "      <td>N01AFXX</td>\n",
              "      <td>全身麻酔，全身麻酔の導入，局所麻酔剤・吸入麻酔剤との併用，精神神経科における電撃療法の際の麻...</td>\n",
              "    </tr>\n",
              "  </tbody>\n",
              "</table>\n",
              "</div>"
            ],
            "text/plain": [
              "        レセプト電算処理システム医薬品名  ...                                              効能・効果\n",
              "0                  フローセン  ...                                                NaN\n",
              "1                  フローセン  ...                                                NaN\n",
              "2           ネンブタール注射液　５％  ...                                                NaN\n",
              "3      チトゾール　３００ｍｇ（溶解液付）  ...  全身麻酔，全身麻酔の導入，局所麻酔剤・吸入麻酔剤との併用，精神神経科における電撃療法の際の麻...\n",
              "4  チトゾール０．３ｇ　３００ｍｇ（溶解液付）  ...  全身麻酔，全身麻酔の導入，局所麻酔剤・吸入麻酔剤との併用，精神神経科における電撃療法の際の麻...\n",
              "\n",
              "[5 rows x 4 columns]"
            ]
          },
          "metadata": {
            "tags": []
          },
          "execution_count": 8
        }
      ]
    },
    {
      "cell_type": "code",
      "metadata": {
        "id": "D1qLI_ih7e5W"
      },
      "source": [
        "KEGG = KEGG[[\"薬価基準収載医薬品コード\", \"ATCコード\"]]\n",
        "KEGG[\"merged_code\"] = KEGG[\"薬価基準収載医薬品コード\"].apply(lambda x: str(x)[:7])\n",
        "MEDIS[\"merged_code\"] = MEDIS[\"薬価基準収載医薬品コード\"].apply(lambda x: str(x)[:7])"
      ],
      "execution_count": 9,
      "outputs": []
    },
    {
      "cell_type": "code",
      "metadata": {
        "id": "KwGi92rl5TZp"
      },
      "source": [
        "DataF = pd.merge(MEDIS, KEGG[[\"merged_code\", \"ATCコード\"]], on = \"merged_code\", how = 'left')\n",
        "DataF.drop_duplicates(inplace = True)"
      ],
      "execution_count": 10,
      "outputs": []
    },
    {
      "cell_type": "code",
      "metadata": {
        "colab": {
          "base_uri": "https://localhost:8080/",
          "height": 419
        },
        "id": "4YzjjzvO6yfy",
        "outputId": "f63f138a-7c7e-4adf-97d9-7d171c0cb433"
      },
      "source": [
        "DataF"
      ],
      "execution_count": 11,
      "outputs": [
        {
          "output_type": "execute_result",
          "data": {
            "text/html": [
              "<div>\n",
              "<style scoped>\n",
              "    .dataframe tbody tr th:only-of-type {\n",
              "        vertical-align: middle;\n",
              "    }\n",
              "\n",
              "    .dataframe tbody tr th {\n",
              "        vertical-align: top;\n",
              "    }\n",
              "\n",
              "    .dataframe thead th {\n",
              "        text-align: right;\n",
              "    }\n",
              "</style>\n",
              "<table border=\"1\" class=\"dataframe\">\n",
              "  <thead>\n",
              "    <tr style=\"text-align: right;\">\n",
              "      <th></th>\n",
              "      <th>レセプト電算処理システムコード</th>\n",
              "      <th>レセプト電算処理システム医薬品名</th>\n",
              "      <th>薬価基準収載医薬品コード</th>\n",
              "      <th>merged_code</th>\n",
              "      <th>ATCコード</th>\n",
              "    </tr>\n",
              "  </thead>\n",
              "  <tbody>\n",
              "    <tr>\n",
              "      <th>0</th>\n",
              "      <td>661110021.0</td>\n",
              "      <td>フローセン</td>\n",
              "      <td>1112700X1011</td>\n",
              "      <td>1112700</td>\n",
              "      <td>N01AB01</td>\n",
              "    </tr>\n",
              "    <tr>\n",
              "      <th>1</th>\n",
              "      <td>661110021.0</td>\n",
              "      <td>フローセン</td>\n",
              "      <td>1112700X1011</td>\n",
              "      <td>1112700</td>\n",
              "      <td>N01AB01</td>\n",
              "    </tr>\n",
              "    <tr>\n",
              "      <th>2</th>\n",
              "      <td>667130002.0</td>\n",
              "      <td>エーテル</td>\n",
              "      <td>7134700X1016</td>\n",
              "      <td>7134700</td>\n",
              "      <td>M03BC, N01AA</td>\n",
              "    </tr>\n",
              "    <tr>\n",
              "      <th>3</th>\n",
              "      <td>641110021.0</td>\n",
              "      <td>ラボナール　３００ｍｇ</td>\n",
              "      <td>1115400X1019</td>\n",
              "      <td>1115400</td>\n",
              "      <td>N01AF03</td>\n",
              "    </tr>\n",
              "    <tr>\n",
              "      <th>4</th>\n",
              "      <td>641110021.0</td>\n",
              "      <td>ラボナール　３００ｍｇ</td>\n",
              "      <td>1115400X1019</td>\n",
              "      <td>1115400</td>\n",
              "      <td>N01AF03</td>\n",
              "    </tr>\n",
              "    <tr>\n",
              "      <th>...</th>\n",
              "      <td>...</td>\n",
              "      <td>...</td>\n",
              "      <td>...</td>\n",
              "      <td>...</td>\n",
              "      <td>...</td>\n",
              "    </tr>\n",
              "    <tr>\n",
              "      <th>7497181</th>\n",
              "      <td>622761500.0</td>\n",
              "      <td>バンコマイシン塩酸塩点滴静注用０．５ｇ「明治」</td>\n",
              "      <td>6113400A1014</td>\n",
              "      <td>6113400</td>\n",
              "      <td>J01XA01</td>\n",
              "    </tr>\n",
              "    <tr>\n",
              "      <th>7497182</th>\n",
              "      <td>622761500.0</td>\n",
              "      <td>バンコマイシン塩酸塩点滴静注用０．５ｇ「明治」</td>\n",
              "      <td>6113400A1014</td>\n",
              "      <td>6113400</td>\n",
              "      <td>J01XA01</td>\n",
              "    </tr>\n",
              "    <tr>\n",
              "      <th>7497183</th>\n",
              "      <td>622761500.0</td>\n",
              "      <td>バンコマイシン塩酸塩点滴静注用０．５ｇ「明治」</td>\n",
              "      <td>6113400A1014</td>\n",
              "      <td>6113400</td>\n",
              "      <td>J01XA01</td>\n",
              "    </tr>\n",
              "    <tr>\n",
              "      <th>7497184</th>\n",
              "      <td>622761500.0</td>\n",
              "      <td>バンコマイシン塩酸塩点滴静注用０．５ｇ「明治」</td>\n",
              "      <td>6113400A1014</td>\n",
              "      <td>6113400</td>\n",
              "      <td>J01XA01</td>\n",
              "    </tr>\n",
              "    <tr>\n",
              "      <th>7497185</th>\n",
              "      <td>622761500.0</td>\n",
              "      <td>バンコマイシン塩酸塩点滴静注用０．５ｇ「明治」</td>\n",
              "      <td>6113400A1014</td>\n",
              "      <td>6113400</td>\n",
              "      <td>J01XA01</td>\n",
              "    </tr>\n",
              "  </tbody>\n",
              "</table>\n",
              "<p>7497186 rows × 5 columns</p>\n",
              "</div>"
            ],
            "text/plain": [
              "         レセプト電算処理システムコード         レセプト電算処理システム医薬品名  ... merged_code        ATCコード\n",
              "0            661110021.0                    フローセン  ...     1112700       N01AB01\n",
              "1            661110021.0                    フローセン  ...     1112700       N01AB01\n",
              "2            667130002.0                     エーテル  ...     7134700  M03BC, N01AA\n",
              "3            641110021.0              ラボナール　３００ｍｇ  ...     1115400       N01AF03\n",
              "4            641110021.0              ラボナール　３００ｍｇ  ...     1115400       N01AF03\n",
              "...                  ...                      ...  ...         ...           ...\n",
              "7497181      622761500.0  バンコマイシン塩酸塩点滴静注用０．５ｇ「明治」  ...     6113400       J01XA01\n",
              "7497182      622761500.0  バンコマイシン塩酸塩点滴静注用０．５ｇ「明治」  ...     6113400       J01XA01\n",
              "7497183      622761500.0  バンコマイシン塩酸塩点滴静注用０．５ｇ「明治」  ...     6113400       J01XA01\n",
              "7497184      622761500.0  バンコマイシン塩酸塩点滴静注用０．５ｇ「明治」  ...     6113400       J01XA01\n",
              "7497185      622761500.0  バンコマイシン塩酸塩点滴静注用０．５ｇ「明治」  ...     6113400       J01XA01\n",
              "\n",
              "[7497186 rows x 5 columns]"
            ]
          },
          "metadata": {
            "tags": []
          },
          "execution_count": 11
        }
      ]
    },
    {
      "cell_type": "code",
      "metadata": {
        "id": "AwkuTOml60dZ"
      },
      "source": [
        "DataF[DataF['ATCコード'].isnull()]"
      ],
      "execution_count": 15,
      "outputs": []
    }
  ]
}